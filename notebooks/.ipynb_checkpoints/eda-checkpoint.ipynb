{
 "cells": [
  {
   "cell_type": "code",
   "execution_count": 3,
   "id": "active-latest",
   "metadata": {},
   "outputs": [],
   "source": [
    "import numpy as np\n",
    "import pandas as pd\n",
    "import cv2\n",
    "import os"
   ]
  },
  {
   "cell_type": "code",
   "execution_count": 2,
   "id": "comprehensive-optics",
   "metadata": {},
   "outputs": [],
   "source": [
    "def save_frames(video_path, output_dir):\n",
    "    video = cv2.VideoCapture(video_path)\n",
    "    success, image = video.read()\n",
    "    c = 0\n",
    "    while success:\n",
    "        cv2.imwrite(os.path.join(output_dir, f\"frame{c}.jpg\"), image)"
   ]
  },
  {
   "cell_type": "code",
   "execution_count": null,
   "id": "fallen-pound",
   "metadata": {},
   "outputs": [],
   "source": []
  }
 ],
 "metadata": {
  "kernelspec": {
   "display_name": "Python 3",
   "language": "python",
   "name": "python3"
  },
  "language_info": {
   "codemirror_mode": {
    "name": "ipython",
    "version": 3
   },
   "file_extension": ".py",
   "mimetype": "text/x-python",
   "name": "python",
   "nbconvert_exporter": "python",
   "pygments_lexer": "ipython3",
   "version": "3.8.5"
  }
 },
 "nbformat": 4,
 "nbformat_minor": 5
}
