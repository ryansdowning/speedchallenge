{
 "cells": [
  {
   "cell_type": "code",
   "execution_count": 2,
   "id": "greater-advancement",
   "metadata": {},
   "outputs": [],
   "source": [
    "import numpy as np\n",
    "import pandas as pd\n",
    "import cv2\n",
    "import os\n",
    "from tqdm.notebook import tqdm, trange"
   ]
  },
  {
   "cell_type": "code",
   "execution_count": 2,
   "id": "middle-climb",
   "metadata": {},
   "outputs": [],
   "source": [
    "def save_frames(video_path, output_dir, verbose=True):\n",
    "    video = cv2.VideoCapture(video_path)\n",
    "    success, image = video.read()\n",
    "    c = 0\n",
    "    while success:\n",
    "        cv2.imwrite(os.path.join(output_dir, f\"frame{c}.jpg\"), image)\n",
    "        if verbose:\n",
    "            print(f'Saved frame: {c}')\n",
    "        success, image = video.read()\n",
    "        c += 1"
   ]
  },
  {
   "cell_type": "code",
   "execution_count": 3,
   "id": "collectible-latest",
   "metadata": {},
   "outputs": [],
   "source": [
    "# save_frames('../data/train.mp4', '../data/training_images')\n",
    "# save_frames('../data/test.mp4', '../data/test_images')"
   ]
  },
  {
   "cell_type": "code",
   "execution_count": 4,
   "id": "broad-representation",
   "metadata": {},
   "outputs": [],
   "source": [
    "def load_dataset(image_dir, labels_path):\n",
    "    Y = pd.read_table(labels_path, names=['speed'])['speed'].values\n",
    "    X = np.array([cv2.imread(os.path.join(image_dir, f'frame{i}.jpg'), cv2.IMREAD_COLOR) for i in trange(Y.shape[0])])\n",
    "    return X, Y"
   ]
  },
  {
   "cell_type": "code",
   "execution_count": null,
   "id": "cardiovascular-stick",
   "metadata": {},
   "outputs": [
    {
     "data": {
      "application/vnd.jupyter.widget-view+json": {
       "model_id": "4771cc0b9a444b80b5aa134402d6ed8f",
       "version_major": 2,
       "version_minor": 0
      },
      "text/plain": [
       "  0%|          | 0/20400 [00:00<?, ?it/s]"
      ]
     },
     "metadata": {},
     "output_type": "display_data"
    }
   ],
   "source": [
    "X, Y = load_dataset('../data/training_images', '../data/train.txt')"
   ]
  },
  {
   "cell_type": "code",
   "execution_count": 5,
   "id": "threaded-wells",
   "metadata": {},
   "outputs": [
    {
     "data": {
      "text/plain": [
       "(480, 640, 3)"
      ]
     },
     "execution_count": 5,
     "metadata": {},
     "output_type": "execute_result"
    }
   ],
   "source": [
    "cv2.imread(os.path.join('../data/training_images', f'frame{0}.jpg'), cv2.IMREAD_COLOR).shape"
   ]
  },
  {
   "cell_type": "code",
   "execution_count": null,
   "id": "polish-maker",
   "metadata": {},
   "outputs": [],
   "source": []
  }
 ],
 "metadata": {
  "kernelspec": {
   "display_name": "Python 3",
   "language": "python",
   "name": "python3"
  },
  "language_info": {
   "codemirror_mode": {
    "name": "ipython",
    "version": 3
   },
   "file_extension": ".py",
   "mimetype": "text/x-python",
   "name": "python",
   "nbconvert_exporter": "python",
   "pygments_lexer": "ipython3",
   "version": "3.8.5"
  }
 },
 "nbformat": 4,
 "nbformat_minor": 5
}
